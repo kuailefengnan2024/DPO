{
 "cells": [
  {
   "cell_type": "code",
   "execution_count": 1,
   "id": "98b83c8d",
   "metadata": {},
   "outputs": [
    {
     "name": "stderr",
     "output_type": "stream",
     "text": [
      "The installed version of bitsandbytes was compiled without GPU support. 8-bit optimizers, 8-bit multiplication, and GPU quantization are unavailable.\n"
     ]
    },
    {
     "data": {
      "text/plain": [
       "<torch.autograd.grad_mode.set_grad_enabled at 0x2126bc3d7f0>"
      ]
     },
     "execution_count": 1,
     "metadata": {},
     "output_type": "execute_result"
    }
   ],
   "source": [
    "# 导入必要的库\n",
    "# 从diffusers库导入Stable Diffusion相关的管道和模型\n",
    "from diffusers import StableDiffusionPipeline, UNet2DConditionModel, StableDiffusionXLPipeline\n",
    "import torch\n",
    "\n",
    "# 禁用梯度计算，提高推理速度\n",
    "torch.set_grad_enabled(False)"
   ]
  },
  {
   "cell_type": "code",
   "execution_count": null,
   "id": "192c556e",
   "metadata": {},
   "outputs": [
    {
     "data": {
      "application/vnd.jupyter.widget-view+json": {
       "model_id": "0730ca84174c4570baa5d5f381c5af15",
       "version_major": 2,
       "version_minor": 0
      },
      "text/plain": [
       "diffusion_pytorch_model.safetensors:  55%|#####4    | 5.62G/10.3G [00:00<?, ?B/s]"
      ]
     },
     "metadata": {},
     "output_type": "display_data"
    }
   ],
   "source": [
    "# 加载经过DPO(Direct Preference Optimization)训练的UNet模型\n",
    "# DPO是一种直接偏好优化方法，可以提高生成图像的质量\n",
    "dpo_unet = UNet2DConditionModel.from_pretrained(\n",
    "                            #  'mhdang/dpo-sd1.5-text2image-v1',  # SD1.5版本的DPO模型\n",
    "                            'mhdang/dpo-sdxl-text2image-v1',      # SDXL版本的DPO模型\n",
    "                            # 或者使用本地检查点目录 (*/checkpoint-n/)\n",
    "                            subfolder='unet',        # 指定UNet子文件夹\n",
    "                            torch_dtype=torch.float16  # 使用半精度浮点数节省显存\n",
    ").to('cuda')  # 将模型移动到GPU"
   ]
  },
  {
   "cell_type": "code",
   "execution_count": null,
   "id": "8e06ccfc",
   "metadata": {},
   "outputs": [],
   "source": [
    "# 设置预训练模型名称\n",
    "# 可以选择不同版本的Stable Diffusion模型\n",
    "# pretrained_model_name = \"CompVis/stable-diffusion-v1-4\"          # SD v1.4版本\n",
    "# pretrained_model_name = \"runwayml/stable-diffusion-v1-5\"         # SD v1.5版本\n",
    "pretrained_model_name = \"stabilityai/stable-diffusion-xl-base-1.0\"  # SDXL基础版本\n",
    "\n",
    "# 根据模型类型设置引导强度(guidance scale)\n",
    "# SDXL使用5.0，SD1.x使用7.5作为默认值\n",
    "gs = (5 if 'stable-diffusion-xl' in pretrained_model_name else 7.5)"
   ]
  },
  {
   "cell_type": "code",
   "execution_count": null,
   "id": "e28d893e",
   "metadata": {
    "scrolled": true
   },
   "outputs": [],
   "source": [
    "# 根据模型类型创建对应的Stable Diffusion管道\n",
    "if 'stable-diffusion-xl' in pretrained_model_name:\n",
    "    # 创建SDXL管道\n",
    "    pipe = StableDiffusionXLPipeline.from_pretrained(\n",
    "        pretrained_model_name, \n",
    "        torch_dtype=torch.float16,  # 使用半精度浮点数\n",
    "        variant=\"fp16\",             # 加载fp16版本模型\n",
    "        use_safetensors=True        # 使用安全张量格式\n",
    "    ).to(\"cuda\")\n",
    "else:\n",
    "    # 创建标准SD管道\n",
    "    pipe = StableDiffusionPipeline.from_pretrained(pretrained_model_name,\n",
    "                                                   torch_dtype=torch.float16)\n",
    "    pipe = pipe.to('cuda')\n",
    "\n",
    "# 禁用内容安全检查器，避免过度敏感的内容过滤\n",
    "# 注意：安全检查器有时会错误地将正常内容(如\"机器人老虎\")标记为不安全\n",
    "pipe.safety_checker = None\n",
    "\n"
   ]
  },
  {
   "cell_type": "code",
   "execution_count": null,
   "id": "2150c454",
   "metadata": {},
   "outputs": [],
   "source": [
    "# 导入评分工具\n",
    "# 可以选择使用 clip_utils（CLIP评分）, aes_utils（美学评分）, hps_utils（人类偏好评分）等\n",
    "from utils.pickscore_utils import Selector\n",
    "\n",
    "# 使用奖励模型自动为生成的图像评分\n",
    "# PickScore是一个基于人类偏好训练的评分模型\n",
    "ps_selector = Selector('cuda')"
   ]
  },
  {
   "cell_type": "code",
   "execution_count": null,
   "id": "fe5edb88",
   "metadata": {},
   "outputs": [],
   "source": [
    "# 准备对比的UNet模型列表\n",
    "# 第一个是原始SDXL模型，第二个是经过DPO优化的模型\n",
    "unets = [pipe.unet, dpo_unet]\n",
    "\n",
    "# 对应的模型名称，用于显示和区分\n",
    "names = [\"原始 SDXL\", \"DPO SDXL\"]"
   ]
  },
  {
   "cell_type": "code",
   "execution_count": null,
   "id": "64ef0616",
   "metadata": {},
   "outputs": [],
   "source": [
    "def gen(prompt, seed=0, run_baseline=True):\n",
    "    \"\"\"\n",
    "    生成图像并对比不同模型的效果\n",
    "    \n",
    "    参数:\n",
    "        prompt (str): 文本提示词，用于指导图像生成\n",
    "        seed (int): 随机种子，确保结果可复现，默认为0\n",
    "        run_baseline (bool): 是否同时运行基线模型对比，默认为True\n",
    "    \n",
    "    返回:\n",
    "        list: 生成的图像列表，如果run_baseline=True则包含两张图像（原始模型+DPO模型）\n",
    "              如果run_baseline=False则只包含一张图像（仅DPO模型）\n",
    "    \n",
    "    功能说明:\n",
    "        - 使用相同的seed确保不同模型生成的图像具有可比性\n",
    "        - 支持选择性对比（可以只生成DPO模型的结果）\n",
    "        - 自动显示生成的图像并返回图像对象供后续使用\n",
    "    \"\"\"\n",
    "    ims = []  # 存储生成的图像\n",
    "    generator = torch.Generator(device='cuda')  # 创建GPU上的随机数生成器\n",
    "    \n",
    "    # 根据run_baseline参数决定运行哪些模型：[0,1]表示原始+DPO，[1]表示仅DPO\n",
    "    for unet_i in ([0, 1] if run_baseline else [1]):\n",
    "        print(f\"提示词: {prompt}\\n随机种子: {seed}\\n当前模型: {names[unet_i]}\")\n",
    "        \n",
    "        # 切换到对应的UNet模型\n",
    "        pipe.unet = unets[unet_i]\n",
    "        \n",
    "        # 设置随机种子，确保可复现性\n",
    "        generator = generator.manual_seed(seed)\n",
    "        \n",
    "        # 生成图像\n",
    "        im = pipe(prompt=prompt, generator=generator, guidance_scale=gs).images[0]\n",
    "        \n",
    "        # 显示生成的图像\n",
    "        display(im)\n",
    "        \n",
    "        # 将图像添加到结果列表\n",
    "        ims.append(im)\n",
    "    \n",
    "    return ims"
   ]
  },
  {
   "cell_type": "code",
   "execution_count": null,
   "id": "b0bb84b9",
   "metadata": {
    "scrolled": false
   },
   "outputs": [],
   "source": [
    "# 示例提示词列表\n",
    "# 包含各种创意和艺术风格的提示词，用于测试模型的生成能力\n",
    "example_prompts = [\n",
    "    \"A pile of sand swirling in the wind forming the shape of a dancer\",\n",
    "    \"A giant dinosaur frozen into a glacier and recently discovered by scientists, cinematic still\",\n",
    "    \"a smiling beautiful sorceress with long dark hair and closed eyes wearing a dark top surrounded by glowing fire sparks at night, magical light fog, deep focus+closeup, hyper-realistic, volumetric lighting, dramatic lighting, beautiful composition, intricate details, instagram, trending, photograph, film grain and noise, 8K, cinematic, post-production\",\n",
    "    \"A purple raven flying over big sur, light fog, deep focus+closeup, hyper-realistic, volumetric lighting, dramatic lighting, beautiful composition, intricate details, instagram, trending, photograph, film grain and noise, 8K, cinematic, post-production\",\n",
    "    \"a smiling beautiful sorceress wearing a modest high necked blue suit surrounded by swirling rainbow aurora, hyper-realistic, cinematic, post-production\",\n",
    "    \"Anthro humanoid turtle skydiving wearing goggles, gopro footage\",\n",
    "    \"A man in a suit surfing in a river\",\n",
    "    \"photo of a zebra dressed suit and tie sitting at a table in a bar with a bar stools, award winning photography\",\n",
    "    \"A typhoon in a tea cup, digital render\",\n",
    "    \"A cute puppy leading a session of the United Nations, newspaper photography\",\n",
    "    \"Worm eye view of rocketship\",\n",
    "    \"Glass spheres in the desert, refraction render\",\n",
    "    \"anthropmorphic coffee bean drinking coffee\",\n",
    "    \"A baby kangaroo in a trenchcoat\",\n",
    "    \"A towering hurricane of rainbow colors towering over a city, cinematic digital art\",\n",
    "    \"A redwood tree rising up out of the ocean\",\n",
    "]\n",
    "\n",
    "\n",
    "# 批量生成和评分流程\n",
    "# 对每个提示词进行图像生成，并使用PickScore模型进行自动评分\n",
    "for p in example_prompts:\n",
    "    # 生成图像（可以选择保存这些图像）\n",
    "    ims = gen(p)\n",
    "    \n",
    "    # 使用PickScore对生成的图像进行评分\n",
    "    # 分数越高表示图像质量越好，越符合人类偏好\n",
    "    scores = ps_selector.score(ims, p)\n",
    "    print(f\"评分结果: {scores}\")"
   ]
  },
  {
   "cell_type": "code",
   "execution_count": null,
   "id": "7c94d034",
   "metadata": {},
   "outputs": [],
   "source": [
    "# 加载PartiPrompts数据集\n",
    "# PartiPrompts是Google发布的用于评估文本到图像生成模型的基准数据集\n",
    "# 包含1600多个精心设计的提示词，涵盖各种复杂性和类别\n",
    "from datasets import load_dataset\n",
    "\n",
    "# 从Hugging Face Hub加载PartiPrompts数据集\n",
    "dataset = load_dataset(\"nateraw/parti-prompts\")\n",
    "\n",
    "# 打印训练集中的所有提示词\n",
    "# 这些提示词可以用于更全面的模型性能评估\n",
    "print(\"PartiPrompts数据集中的提示词:\")\n",
    "print(dataset['train']['Prompt'])"
   ]
  },
  {
   "cell_type": "code",
   "execution_count": null,
   "id": "ab5e23c0",
   "metadata": {},
   "outputs": [],
   "source": [
    "# 这是一个空的单元格，可以用于额外的实验和测试代码\n",
    "# \n",
    "# 使用示例:\n",
    "# images = gen(\"自定义提示词\", seed=123)\n",
    "# scores = ps_selector.score(images, \"自定义提示词\") \n",
    "#\n",
    "# 提示：运行上面的单元格来体验DPO优化后的Stable Diffusion模型效果\n"
   ]
  }
 ],
 "metadata": {
  "kernelspec": {
   "display_name": "Python 3.12.7 (Anaconda base)",
   "language": "python",
   "name": "base"
  },
  "language_info": {
   "codemirror_mode": {
    "name": "ipython",
    "version": 3
   },
   "file_extension": ".py",
   "mimetype": "text/x-python",
   "name": "python",
   "nbconvert_exporter": "python",
   "pygments_lexer": "ipython3",
   "version": "3.12.7"
  }
 },
 "nbformat": 4,
 "nbformat_minor": 5
}
